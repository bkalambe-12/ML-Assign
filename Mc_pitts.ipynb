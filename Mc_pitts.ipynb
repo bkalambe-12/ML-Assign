{
  "nbformat": 4,
  "nbformat_minor": 0,
  "metadata": {
    "colab": {
      "provenance": [],
      "authorship_tag": "ABX9TyN814mbQvX+tKuuIFBtCM1p"
    },
    "kernelspec": {
      "name": "python3",
      "display_name": "Python 3"
    },
    "language_info": {
      "name": "python"
    }
  },
  "cells": [
    {
      "cell_type": "code",
      "execution_count": null,
      "metadata": {
        "colab": {
          "base_uri": "https://localhost:8080/"
        },
        "id": "4dmR2hr0tyNu",
        "outputId": "8ba28088-733a-4efe-8602-161bc4c506d6"
      },
      "outputs": [
        {
          "output_type": "stream",
          "name": "stdout",
          "text": [
            "AND(0,0): 0\n",
            "AND(0, 1): 0\n",
            "AND(1, 0): 0\n",
            "AND(1, 1): 1\n"
          ]
        }
      ],
      "source": [
        "import numpy as np\n",
        "\n",
        "class McCullochPittsNeuron:\n",
        "\n",
        "  def __init__(self, weights, bias, activation_func):\n",
        "    self.weights = weights\n",
        "    self.bias = bias\n",
        "    self.activation_func = activation_func\n",
        "\n",
        "  def predict(self, inputs):\n",
        "\n",
        "    weighted_sum = np.dot(self.weights, inputs) + self.bias\n",
        "    return self.activation_func(weighted_sum)\n",
        "\n",
        "\n",
        "weights = np.array([1, 1])\n",
        "bias = -1.5\n",
        "activation_func = lambda x: np.where(x >= 0, 1, 0)\n",
        "\n",
        "neuron = McCullochPittsNeuron(weights, bias, activation_func)\n",
        "\n",
        "inputs = np.array([0, 0])\n",
        "output = neuron.predict(inputs)\n",
        "print(\"AND(0,0):\", output)\n",
        "\n",
        "inputs = np.array([0, 1])\n",
        "output = neuron.predict(inputs)\n",
        "print(\"AND(0, 1):\", output)\n",
        "\n",
        "inputs = np.array([1, 0])\n",
        "output = neuron.predict(inputs)\n",
        "print(\"AND(1, 0):\", output)\n",
        "\n",
        "inputs = np.array([1, 1])\n",
        "output = neuron.predict(inputs)\n",
        "print(\"AND(1, 1):\", output)\n"
      ]
    }
  ]
}