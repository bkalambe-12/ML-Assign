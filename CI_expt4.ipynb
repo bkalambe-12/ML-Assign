{
  "nbformat": 4,
  "nbformat_minor": 0,
  "metadata": {
    "colab": {
      "provenance": [],
      "authorship_tag": "ABX9TyPXlI5rVjzOH6xjnvSdgS5k"
    },
    "kernelspec": {
      "name": "python3",
      "display_name": "Python 3"
    },
    "language_info": {
      "name": "python"
    }
  },
  "cells": [
    {
      "cell_type": "code",
      "execution_count": null,
      "metadata": {
        "colab": {
          "base_uri": "https://localhost:8080/"
        },
        "id": "apukAjGnrodQ",
        "outputId": "434ff1f4-e36f-4ff0-fe3f-e6f26c67e4ca"
      },
      "outputs": [
        {
          "output_type": "stream",
          "name": "stdout",
          "text": [
            "Bhagyashree Kalambe: 21CE1323\n",
            "Global best position: [0.00055866 0.00073935]\n",
            "Global best value: 1.0000008587465596\n"
          ]
        }
      ],
      "source": [
        "print(\"Bhagyashree Kalambe: 21CE1323\")\n",
        "\n",
        "import random\n",
        "import numpy as np\n",
        "\n",
        "#objective function\n",
        "def objective_function(x):\n",
        "    return x[0]**2 + x[1]**2+1\n",
        "num_dimensions =2   #parameter\n",
        "num_particles =30   #parameter\n",
        "max_iterations =100  #parameter\n",
        "\n",
        "particles = np.random.rand(num_particles, num_dimensions)\n",
        "velocities = np.random.rand(num_particles, num_dimensions)\n",
        "personal_best_positions = particles.copy()\n",
        "personal_best_values = np.array([objective_function(x) for x in particles])\n",
        "\n",
        "global_best_position = personal_best_positions[np.argmin(personal_best_values)]\n",
        "global_best_value = min(personal_best_values)\n",
        "\n",
        "for iterations in range(max_iterations):\n",
        "  for i in range(num_particles):\n",
        "    velocities[i]=velocities[i]+\\\n",
        "      random.random()*(personal_best_positions[i]-particles[i])+\\\n",
        "      random.random()*(global_best_position-particles[i])\n",
        "\n",
        "    particles[i]=particles[i]+velocities[i]\n",
        "\n",
        "    current_value = objective_function(particles[i])\n",
        "\n",
        "    if current_value<personal_best_values[i]:\n",
        "      personal_best_positions[i]=particles[i].copy()\n",
        "      personal_best_values[i]=current_value\n",
        "\n",
        "      if current_value < global_best_value:\n",
        "        global_best_position = particles[i].copy()\n",
        "        global_best_value = current_value\n",
        "\n",
        "print(\"Global best position:\",global_best_position)\n",
        "print(\"Global best value:\",global_best_value)"
      ]
    }
  ]
}