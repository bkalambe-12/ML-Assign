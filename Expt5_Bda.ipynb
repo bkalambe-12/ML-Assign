{
  "nbformat": 4,
  "nbformat_minor": 0,
  "metadata": {
    "colab": {
      "provenance": [],
      "authorship_tag": "ABX9TyN5Pshqflcn6BPlsetDOQZR"
    },
    "kernelspec": {
      "name": "python3",
      "display_name": "Python 3"
    },
    "language_info": {
      "name": "python"
    }
  },
  "cells": [
    {
      "cell_type": "code",
      "execution_count": null,
      "metadata": {
        "colab": {
          "base_uri": "https://localhost:8080/"
        },
        "id": "2HKL01RqrThm",
        "outputId": "a08c7fdd-743a-4684-f06f-2bdec457b87b"
      },
      "outputs": [
        {
          "output_type": "stream",
          "name": "stdout",
          "text": [
            "Bhagyashree Kalambe : 21CE1323\n",
            "apple might be in the set.\n",
            "watermelon is definitely not in the set.\n",
            "mango might be in the set.\n",
            "pear is definitely not in the set.\n",
            "kiwi might be in the set.\n",
            "guava is definitely not in the set.\n",
            "peach might be in the set.\n"
          ]
        }
      ],
      "source": [
        "print(\"Bhagyashree Kalambe : 21CE1323\")\n",
        "\n",
        "import hashlib\n",
        "import math\n",
        "\n",
        "class BloomFilter:\n",
        "    def __init__(self, size, hash_count):\n",
        "        \"\"\"Initialize the Bloom Filter with a bit array and number of hash functions.\"\"\"\n",
        "        self.size = size\n",
        "        self.hash_count = hash_count\n",
        "        self.bit_array = [0] * size\n",
        "\n",
        "    def _hashes(self, item):\n",
        "        \"\"\"Generate hash values for the given item using SHA-256 and multiple seeds.\"\"\"\n",
        "        result = []\n",
        "        for i in range(self.hash_count):\n",
        "            hash_result = hashlib.sha256(f\"{i}{item}\".encode('utf-8')).hexdigest()\n",
        "            result.append(int(hash_result, 16) % self.size)\n",
        "        return result\n",
        "\n",
        "    def add(self, item):\n",
        "        \"\"\"Add an item to the Bloom Filter by setting bits in the bit array.\"\"\"\n",
        "        for index in self._hashes(item):\n",
        "            self.bit_array[index] = 1\n",
        "\n",
        "    def check(self, item):\n",
        "        \"\"\"Check if an item might be in the Bloom Filter.\"\"\"\n",
        "        for index in self._hashes(item):\n",
        "            if self.bit_array[index] == 0:\n",
        "                return False\n",
        "        return True\n",
        "\n",
        "\n",
        "if __name__ == '__main__':\n",
        "    # Bloom filter configuration\n",
        "    size = 200\n",
        "    hash_count = 7\n",
        "\n",
        "    bloom_filter = BloomFilter(size, hash_count)\n",
        "\n",
        "    fruits = ['apple', 'banana', 'mango', 'grape', 'orange',\n",
        "              'kiwi', 'strawberry', 'blueberry', 'peach', 'plum']\n",
        "\n",
        "    for fruit in fruits:\n",
        "        bloom_filter.add(fruit)\n",
        "\n",
        "    test_fruits = ['apple', 'watermelon', 'mango', 'pear', 'kiwi', 'guava', 'peach']\n",
        "\n",
        "    for fruit in test_fruits:\n",
        "        if bloom_filter.check(fruit):\n",
        "            print(f'{fruit} might be in the set.')\n",
        "        else:\n",
        "            print(f'{fruit} is definitely not in the set.')"
      ]
    }
  ]
}
